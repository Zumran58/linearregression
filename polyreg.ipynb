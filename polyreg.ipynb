{
 "cells": [
  {
   "cell_type": "code",
   "execution_count": 9,
   "metadata": {},
   "outputs": [
    {
     "name": "stdout",
     "output_type": "stream",
     "text": [
      "Mean Squared Error (MSE): 1523.7974932933055\n"
     ]
    }
   ],
   "source": [
    "import pandas as pd\n",
    "import numpy as np\n",
    "from sklearn.model_selection import train_test_split\n",
    "from sklearn.preprocessing import PolynomialFeatures\n",
    "from sklearn.linear_model import LinearRegression\n",
    "from sklearn.metrics import mean_squared_error\n",
    "\n",
    "# Step 1: Load and preprocess the dataset\n",
    "\n",
    "np.random.seed(0)\n",
    "X = np.random.rand(100, 1) * 10\n",
    "y = 2 * X**3 + np.random.randn(100, 1)\n",
    "\n",
    "# Create a DataFrame from the generated data\n",
    "data = pd.DataFrame({'X': X.flatten(), 'y': y.flatten()})\n",
    "\n",
    "data.to_csv('dataset.csv', index=False)\n",
    "\n",
    "data = pd.read_csv('dataset.csv')\n",
    "X = data.drop('y', axis=1)\n",
    "y = data['y']\n",
    "\n",
    "# Step 2: Split the dataset into training and testing sets\n",
    "X_train, X_test, y_train, y_test = train_test_split(X, y, test_size=0.2, random_state=42)\n",
    "\n",
    "# Step 3: Create polynomial features\n",
    "degree = 2\n",
    "poly_features = PolynomialFeatures(degree=degree)\n",
    "X_poly = poly_features.fit_transform(X_train)\n",
    "\n",
    "# Step 4: Train the Polynomial Regression model\n",
    "poly_regression = LinearRegression()\n",
    "poly_regression.fit(X_poly, y_train)\n",
    "\n",
    "# Step 5: Make predictions on the test set\n",
    "X_test_poly = poly_features.transform(X_test)\n",
    "y_pred = poly_regression.predict(X_test_poly)\n",
    "\n",
    "# Step 6: Evaluate the model's performance\n",
    "mse = mean_squared_error(y_test, y_pred)\n",
    "\n",
    "# Step 7: Print the model performance\n",
    "print(\"Mean Squared Error (MSE):\", mse)\n"
   ]
  },
  {
   "cell_type": "code",
   "execution_count": 11,
   "metadata": {},
   "outputs": [
    {
     "name": "stdout",
     "output_type": "stream",
     "text": [
      "Mean Squared Error (MSE): 0.3718087278704527\n"
     ]
    }
   ],
   "source": [
    "from sklearn.ensemble import GradientBoostingRegressor\n",
    "from sklearn.metrics import mean_squared_error\n",
    "\n",
    "# Create and train the Gradient Boosting Regressor\n",
    "gradient_boosting = GradientBoostingRegressor()\n",
    "gradient_boosting.fit(X, y)\n",
    "\n",
    "# Make predictions\n",
    "y_pred = gradient_boosting.predict(X)\n",
    "\n",
    "# Calculate the Mean Squared Error (MSE)\n",
    "mse = mean_squared_error(y, y_pred)\n",
    "print(\"Mean Squared Error (MSE):\", mse)\n"
   ]
  }
 ],
 "metadata": {
  "kernelspec": {
   "display_name": "Python 3",
   "language": "python",
   "name": "python3"
  },
  "language_info": {
   "codemirror_mode": {
    "name": "ipython",
    "version": 3
   },
   "file_extension": ".py",
   "mimetype": "text/x-python",
   "name": "python",
   "nbconvert_exporter": "python",
   "pygments_lexer": "ipython3",
   "version": "3.10.7"
  },
  "orig_nbformat": 4
 },
 "nbformat": 4,
 "nbformat_minor": 2
}
